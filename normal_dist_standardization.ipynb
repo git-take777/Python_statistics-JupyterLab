{
 "cells": [
  {
   "cell_type": "code",
   "execution_count": 1,
   "metadata": {},
   "outputs": [],
   "source": [
    "## 標準化と正規分布"
   ]
  },
  {
   "cell_type": "code",
   "execution_count": 26,
   "metadata": {},
   "outputs": [],
   "source": [
    "import numpy as np\n",
    "import seaborn as sns\n",
    "import pandas as pd\n",
    "from sklearn.preprocessing import StandardScaler\n",
    "from scipy import stats\n",
    "import matplotlib.pyplot as plt\n",
    "%matplotlib inline"
   ]
  },
  {
   "cell_type": "code",
   "execution_count": 48,
   "metadata": {},
   "outputs": [],
   "source": [
    "df = sns.load_dataset('tips')"
   ]
  },
  {
   "cell_type": "code",
   "execution_count": 59,
   "metadata": {},
   "outputs": [],
   "source": [
    "df['tip_rate'] = df['tip']/ df['total_bill']"
   ]
  },
  {
   "cell_type": "code",
   "execution_count": 60,
   "metadata": {},
   "outputs": [],
   "source": [
    "### 68-95-99.7ルール"
   ]
  },
  {
   "cell_type": "code",
   "execution_count": 61,
   "metadata": {},
   "outputs": [],
   "source": [
    "group1 = []\n",
    "group2 = []\n",
    "group3 = []\n",
    "\n",
    "samples = []\n",
    "loc=4\n",
    "scale=3\n",
    "for i in range(1000):\n",
    "    sample = stats.norm(loc=loc,scale=scale).rvs()\n",
    "    if 4 -3 < sample < 4 + 3:\n",
    "        group1.append(sample)\n",
    "        len(samples)\n",
    "    elif 4 - 2*3 < sample < 4+ 2 * 3:\n",
    "        group2.append(sample)\n",
    "        len(samples)\n",
    "    elif 4 - 3*3 < sample < 4 + 3 * 3:\n",
    "        group3.append(sample)\n",
    "        len(samples)\n",
    "    samples.append(sample)"
   ]
  },
  {
   "cell_type": "code",
   "execution_count": 62,
   "metadata": {},
   "outputs": [
    {
     "name": "stdout",
     "output_type": "stream",
     "text": [
      "0.697\n"
     ]
    }
   ],
   "source": [
    "print(len(group1)/len(samples))"
   ]
  },
  {
   "cell_type": "code",
   "execution_count": 63,
   "metadata": {},
   "outputs": [
    {
     "name": "stdout",
     "output_type": "stream",
     "text": [
      "0.954\n"
     ]
    }
   ],
   "source": [
    "print(len(group1+group2)/len(samples))"
   ]
  },
  {
   "cell_type": "code",
   "execution_count": 64,
   "metadata": {},
   "outputs": [
    {
     "name": "stdout",
     "output_type": "stream",
     "text": [
      "0.999\n"
     ]
    }
   ],
   "source": [
    "print(len(group1+group2+group3)/len(samples))"
   ]
  },
  {
   "cell_type": "code",
   "execution_count": 65,
   "metadata": {},
   "outputs": [],
   "source": [
    "### 標準化 尺度を揃える"
   ]
  },
  {
   "cell_type": "code",
   "execution_count": 66,
   "metadata": {},
   "outputs": [],
   "source": [
    "scaler = StandardScaler()"
   ]
  },
  {
   "cell_type": "code",
   "execution_count": 72,
   "metadata": {},
   "outputs": [
    {
     "data": {
      "text/plain": [
       "array([[-1.66301817e+00],\n",
       "       [-4.28234299e-03],\n",
       "       [ 9.49146717e-02],\n",
       "       [-3.44925940e-01],\n",
       "       [-2.29624968e-01],\n",
       "       [ 4.17363756e-01],\n",
       "       [ 1.10337948e+00],\n",
       "       [-7.33936144e-01],\n",
       "       [-5.00163567e-01],\n",
       "       [ 9.47315739e-01],\n",
       "       [ 9.35535257e-02],\n",
       "       [-3.11727577e-01],\n",
       "       [-9.67838090e-01],\n",
       "       [ 3.24134057e-02],\n",
       "       [ 7.02885077e-01],\n",
       "       [ 3.42053237e-01],\n",
       "       [ 1.41511894e-02],\n",
       "       [ 1.09840651e+00],\n",
       "       [ 7.45627991e-01],\n",
       "       [ 2.33813456e-02],\n",
       "       [ 1.09728238e+00],\n",
       "       [-4.14587519e-01],\n",
       "       [-3.18225155e-01],\n",
       "       [ 5.16606793e-01],\n",
       "       [-5.88357399e-03],\n",
       "       [-4.82644844e-01],\n",
       "       [-1.83995336e-01],\n",
       "       [-5.24746516e-02],\n",
       "       [ 6.12895542e-01],\n",
       "       [-1.33408300e-01],\n",
       "       [-1.47179215e-01],\n",
       "       [-4.03019490e-01],\n",
       "       [ 6.30066304e-01],\n",
       "       [-6.95488521e-01],\n",
       "       [ 3.79214012e-01],\n",
       "       [-1.83383264e-01],\n",
       "       [-6.26420825e-01],\n",
       "       [ 3.36888626e-01],\n",
       "       [-6.10483210e-01],\n",
       "       [-1.48476102e-02],\n",
       "       [-3.47051274e-01],\n",
       "       [-2.51484529e-01],\n",
       "       [ 9.63290777e-01],\n",
       "       [-4.00987322e-01],\n",
       "       [ 3.84070953e-01],\n",
       "       [ 5.28570554e-02],\n",
       "       [ 1.05204148e+00],\n",
       "       [ 4.00062880e-01],\n",
       "       [-1.46026604e+00],\n",
       "       [ 9.01527935e-02],\n",
       "       [ 6.32672740e-01],\n",
       "       [ 1.50737567e+00],\n",
       "       [-1.87379754e-01],\n",
       "       [-6.33490804e-02],\n",
       "       [ 1.47570612e-01],\n",
       "       [ 3.16501160e-01],\n",
       "       [-1.34339804e+00],\n",
       "       [-1.70649970e+00],\n",
       "       [-6.92233716e-02],\n",
       "       [-3.50772542e-01],\n",
       "       [-4.26037703e-02],\n",
       "       [-2.62195159e-01],\n",
       "       [ 3.09625771e-01],\n",
       "       [ 7.34643039e-01],\n",
       "       [-1.75846534e-01],\n",
       "       [-6.44835090e-02],\n",
       "       [-1.74752140e-01],\n",
       "       [ 2.70613013e+00],\n",
       "       [-1.00817537e+00],\n",
       "       [-3.53784451e-01],\n",
       "       [ 5.07150927e-02],\n",
       "       [ 2.45202560e-01],\n",
       "       [-7.20300861e-01],\n",
       "       [ 6.06793973e-01],\n",
       "       [-1.87827745e-01],\n",
       "       [-6.86962166e-01],\n",
       "       [ 1.81673116e-01],\n",
       "       [-2.25503708e-01],\n",
       "       [-4.75698931e-01],\n",
       "       [-6.66905294e-02],\n",
       "       [-1.06348167e-01],\n",
       "       [ 7.10110461e-01],\n",
       "       [ 3.43336797e-01],\n",
       "       [-1.28042643e-01],\n",
       "       [-5.54068773e-01],\n",
       "       [-2.02919576e-01],\n",
       "       [-1.19950920e-01],\n",
       "       [ 9.51906867e-01],\n",
       "       [ 1.24606240e+00],\n",
       "       [-3.12167402e-01],\n",
       "       [-9.39295576e-01],\n",
       "       [-8.49568603e-02],\n",
       "       [ 2.15112759e-01],\n",
       "       [ 1.68470855e+00],\n",
       "       [-2.94443699e-01],\n",
       "       [-7.06401766e-01],\n",
       "       [-2.32579660e-01],\n",
       "       [-5.92553288e-01],\n",
       "       [-2.95559339e-01],\n",
       "       [-6.63156462e-01],\n",
       "       [ 9.75631384e-01],\n",
       "       [ 5.62061733e-01],\n",
       "       [-1.71245996e+00],\n",
       "       [-9.16211377e-02],\n",
       "       [ 5.61572178e-01],\n",
       "       [-8.86537688e-01],\n",
       "       [ 6.12711033e-01],\n",
       "       [ 1.53707264e-01],\n",
       "       [ 7.43889329e-01],\n",
       "       [ 1.94796080e+00],\n",
       "       [ 8.77536154e-01],\n",
       "       [-3.75269896e-01],\n",
       "       [-9.14450903e-01],\n",
       "       [-8.91443875e-01],\n",
       "       [-8.56662692e-02],\n",
       "       [ 6.79159437e-01],\n",
       "       [ 1.40986169e-01],\n",
       "       [-3.27457216e-01],\n",
       "       [-2.62386326e-01],\n",
       "       [-6.48763190e-01],\n",
       "       [ 6.03840260e-01],\n",
       "       [-5.84382083e-01],\n",
       "       [ 2.38124986e-01],\n",
       "       [-5.81009306e-01],\n",
       "       [ 6.74693487e-01],\n",
       "       [-3.25906246e-01],\n",
       "       [ 2.11763561e-01],\n",
       "       [-3.78387160e-01],\n",
       "       [ 2.45202560e-01],\n",
       "       [-1.07097023e+00],\n",
       "       [-1.34848847e+00],\n",
       "       [-3.47636667e-01],\n",
       "       [-4.35039313e-01],\n",
       "       [ 3.82226864e-02],\n",
       "       [ 2.81918791e-01],\n",
       "       [-2.28339078e-01],\n",
       "       [ 5.38308684e-01],\n",
       "       [-3.19291329e-01],\n",
       "       [-5.87438663e-01],\n",
       "       [ 7.90261058e-01],\n",
       "       [ 6.48775347e-01],\n",
       "       [ 5.66602723e-01],\n",
       "       [-6.46692075e-01],\n",
       "       [ 3.94446492e-01],\n",
       "       [-3.41522622e-01],\n",
       "       [ 3.09090836e-01],\n",
       "       [-1.44127377e+00],\n",
       "       [-3.85279543e-01],\n",
       "       [ 2.63984329e-01],\n",
       "       [ 1.73116196e+00],\n",
       "       [ 2.76969363e-01],\n",
       "       [-1.39131822e-01],\n",
       "       [-3.37019475e-02],\n",
       "       [-1.30172577e+00],\n",
       "       [-9.78543219e-01],\n",
       "       [ 1.86912180e-01],\n",
       "       [-9.35297952e-01],\n",
       "       [-1.77245714e-01],\n",
       "       [ 5.59814954e-01],\n",
       "       [-6.48383036e-01],\n",
       "       [ 3.26204458e-02],\n",
       "       [ 6.01667278e-01],\n",
       "       [-6.14008841e-01],\n",
       "       [-2.62195159e-01],\n",
       "       [ 1.72741873e-01],\n",
       "       [-3.09738706e-01],\n",
       "       [-8.68013801e-01],\n",
       "       [-3.09966611e-01],\n",
       "       [-1.43934483e-01],\n",
       "       [ 4.48655474e-01],\n",
       "       [ 5.90826656e-01],\n",
       "       [ 6.41064571e-01],\n",
       "       [ 9.01673417e+00],\n",
       "       [-1.00020739e+00],\n",
       "       [ 1.26355092e+00],\n",
       "       [-1.08740028e+00],\n",
       "       [-8.04114088e-01],\n",
       "       [-3.72144021e-01],\n",
       "       [ 4.19814574e+00],\n",
       "       [-9.56410951e-01],\n",
       "       [-8.95823260e-01],\n",
       "       [ 1.33517595e+00],\n",
       "       [-1.37209662e+00],\n",
       "       [ 1.96453862e+00],\n",
       "       [-1.42451552e+00],\n",
       "       [ 1.32672901e+00],\n",
       "       [ 1.09300556e-01],\n",
       "       [-1.56107458e+00],\n",
       "       [ 5.25619338e-01],\n",
       "       [ 2.02759875e-01],\n",
       "       [-1.06978792e+00],\n",
       "       [ 8.31982167e-01],\n",
       "       [-1.16147802e+00],\n",
       "       [-4.97344604e-01],\n",
       "       [ 1.32003277e+00],\n",
       "       [ 4.86876203e-01],\n",
       "       [ 5.35236429e-01],\n",
       "       [-7.35397381e-01],\n",
       "       [-1.14139106e-01],\n",
       "       [-2.09429617e-01],\n",
       "       [ 8.69393055e-01],\n",
       "       [-4.97446091e-02],\n",
       "       [-1.14139106e-01],\n",
       "       [-1.37226890e-01],\n",
       "       [ 5.58424250e-01],\n",
       "       [ 5.79382202e-01],\n",
       "       [-5.34216937e-01],\n",
       "       [-1.36747250e+00],\n",
       "       [-1.26602321e+00],\n",
       "       [ 2.29089621e-01],\n",
       "       [-1.54673887e+00],\n",
       "       [ 6.31732732e-01],\n",
       "       [ 4.17037552e-01],\n",
       "       [ 4.52726576e-01],\n",
       "       [ 1.14754500e+00],\n",
       "       [-1.23929567e+00],\n",
       "       [-8.89801138e-01],\n",
       "       [-5.14885121e-01],\n",
       "       [ 4.14195282e-01],\n",
       "       [-9.56258467e-01],\n",
       "       [ 3.30098196e-01],\n",
       "       [ 1.61635505e+00],\n",
       "       [ 1.03325376e+00],\n",
       "       [ 4.41894081e-01],\n",
       "       [-7.06645257e-01],\n",
       "       [-1.17242074e-01],\n",
       "       [ 6.13869725e-01],\n",
       "       [-2.31403218e-01],\n",
       "       [ 7.22213523e-01],\n",
       "       [-5.02136332e-01],\n",
       "       [-1.27166305e+00],\n",
       "       [ 4.98827559e-01],\n",
       "       [ 2.15248065e+00],\n",
       "       [-3.98909870e-01],\n",
       "       [ 5.31149320e-01],\n",
       "       [-6.01695617e-01],\n",
       "       [-1.33620357e+00],\n",
       "       [-2.05366292e+00],\n",
       "       [-4.99859091e-01],\n",
       "       [ 7.07572834e-01],\n",
       "       [-1.43106581e+00],\n",
       "       [-1.19087646e+00],\n",
       "       [-1.02709553e+00],\n",
       "       [-1.73622005e-02]])"
      ]
     },
     "execution_count": 72,
     "metadata": {},
     "output_type": "execute_result"
    }
   ],
   "source": [
    "scaler.fit_transform(df['tip_rate'].values.reshape(-1,1)) #引数 ２次元の配列"
   ]
  },
  {
   "cell_type": "code",
   "execution_count": 69,
   "metadata": {},
   "outputs": [
    {
     "data": {
      "text/plain": [
       "(244, 1)"
      ]
     },
     "execution_count": 69,
     "metadata": {},
     "output_type": "execute_result"
    }
   ],
   "source": [
    "df['tip_rate'].values.reshape(-1,1).shape"
   ]
  },
  {
   "cell_type": "code",
   "execution_count": 75,
   "metadata": {},
   "outputs": [],
   "source": [
    "scaled = scaler.fit_transform(df[['total_bill','tip_rate']])"
   ]
  },
  {
   "cell_type": "code",
   "execution_count": 76,
   "metadata": {},
   "outputs": [
    {
     "data": {
      "text/plain": [
       "array([[ 46.85288695,  33.36981828],\n",
       "       [ 39.36764687,  49.95717657],\n",
       "       [ 51.377799  ,  50.94914672],\n",
       "       [ 54.38315103,  46.5507406 ],\n",
       "       [ 55.40744704,  47.70375032],\n",
       "       [ 56.19536705,  54.17363756],\n",
       "       [ 37.60045485,  61.03379478],\n",
       "       [ 57.98507107,  42.66063856],\n",
       "       [ 44.65796693,  44.99836433],\n",
       "       [ 44.36531092,  59.47315739],\n",
       "       [ 39.28885487,  50.93553526],\n",
       "       [ 67.41759917,  46.88272423],\n",
       "       [ 45.08569493,  40.3216191 ],\n",
       "       [ 48.47375097,  50.32413406],\n",
       "       [ 44.42159092,  57.02885077],\n",
       "       [ 52.01939101,  53.42053237],\n",
       "       [ 39.35639087,  50.14151189],\n",
       "       [ 46.06496694,  60.98406513],\n",
       "       [ 46.83037495,  57.45627991],\n",
       "       [ 50.97258299,  50.23381346],\n",
       "       [ 47.89969496,  60.97282376],\n",
       "       [ 50.56736699,  45.85412481],\n",
       "       [ 45.47965493,  46.81774845],\n",
       "       [ 72.10009523,  55.16606793],\n",
       "       [ 50.03833498,  49.94116426],\n",
       "       [ 47.77587896,  45.17355156],\n",
       "       [ 42.7782149 ,  48.16004664],\n",
       "       [ 42.0128069 ,  49.47525348],\n",
       "       [ 52.15446301,  56.12895542],\n",
       "       [ 49.84698298,  48.665917  ],\n",
       "       [ 38.47842286,  48.52820785],\n",
       "       [ 48.38370297,  45.9698051 ],\n",
       "       [ 44.68047893,  56.30066304],\n",
       "       [ 51.01760699,  43.04511479],\n",
       "       [ 47.74211096,  53.79214012],\n",
       "       [ 54.81087904,  48.16616736],\n",
       "       [ 46.08747894,  43.73579175],\n",
       "       [ 46.78535095,  53.36888626],\n",
       "       [ 48.76640697,  43.8951679 ],\n",
       "       [ 62.92645513,  49.8515239 ],\n",
       "       [ 45.78356694,  46.52948726],\n",
       "       [ 47.38191895,  47.48515471],\n",
       "       [ 43.41980691,  59.63290777],\n",
       "       [ 38.62475086,  45.99012678],\n",
       "       [ 61.94718311,  53.84070953],\n",
       "       [ 48.31616697,  50.52857055],\n",
       "       [ 52.75103101,  60.52041476],\n",
       "       [ 64.19838314,  54.0006288 ],\n",
       "       [ 59.86482309,  35.3973396 ],\n",
       "       [ 48.03476696,  50.90152794],\n",
       "       [ 41.84396689,  56.3267274 ],\n",
       "       [ 39.31136687,  65.07375667],\n",
       "       [ 66.91107917,  48.12620246],\n",
       "       [ 38.91740686,  49.3665092 ],\n",
       "       [ 56.49927905,  51.47570612],\n",
       "       [ 49.66688698,  53.1650116 ],\n",
       "       [ 70.51299921,  36.56601957],\n",
       "       [ 57.45603907,  32.93500302],\n",
       "       [ 40.38068688,  49.30776628],\n",
       "       [ 82.06165534,  46.49227458],\n",
       "       [ 50.56736699,  49.5739623 ],\n",
       "       [ 43.27347891,  47.37804841],\n",
       "       [ 40.13305488,  53.09625771],\n",
       "       [ 48.31616697,  57.34643039],\n",
       "       [ 47.52824696,  48.24153466],\n",
       "       [ 50.33099099,  49.35516491],\n",
       "       [ 46.24506294,  48.2524786 ],\n",
       "       [ 31.18453478,  77.06130127],\n",
       "       [ 50.49983099,  39.91824625],\n",
       "       [ 44.62419892,  46.46215549],\n",
       "       [ 41.25865489,  50.50715093],\n",
       "       [ 46.94293495,  52.4520256 ],\n",
       "       [ 57.96255907,  42.79699139],\n",
       "       [ 56.18411105,  56.06793973],\n",
       "       [ 44.30903092,  48.12172255],\n",
       "       [ 39.55899887,  43.13037834],\n",
       "       [ 47.89969496,  51.81673116],\n",
       "       [ 58.34526308,  47.74496292],\n",
       "       [ 53.34759902,  45.24301069],\n",
       "       [ 47.19056695,  49.33309471],\n",
       "       [ 49.61060698,  48.93651833],\n",
       "       [ 46.48143895,  57.10110461],\n",
       "       [ 39.06373486,  53.43336797],\n",
       "       [ 64.51355114,  48.71957357],\n",
       "       [ 45.71603094,  44.45931227],\n",
       "       [ 66.93359117,  47.97080424],\n",
       "       [ 42.3955109 ,  48.8004908 ],\n",
       "       [ 48.30491097,  59.51906867],\n",
       "       [ 55.54251904,  62.46062397],\n",
       "       [ 51.546639  ,  46.87832598],\n",
       "       [ 60.3375751 ,  40.60704424],\n",
       "       [ 53.04368702,  49.1504314 ],\n",
       "       [ 34.20114281,  52.15112759],\n",
       "       [ 46.09873494,  66.84708553],\n",
       "       [ 53.33634302,  47.05556301],\n",
       "       [ 72.94429524,  42.93598234],\n",
       "       [ 58.43531108,  47.6742034 ],\n",
       "       [ 41.26991089,  44.07446712],\n",
       "       [ 51.377799  ,  47.04440661],\n",
       "       [ 41.75391889,  43.36843538],\n",
       "       [ 40.50450288,  59.75631384],\n",
       "       [ 45.04067093,  55.62061733],\n",
       "       [ 77.59302329,  32.87540045],\n",
       "       [ 52.96489502,  49.08378862],\n",
       "       [ 51.276495  ,  55.61572178],\n",
       "       [ 45.01815893,  41.13462312],\n",
       "       [ 50.79248699,  56.12711033],\n",
       "       [ 56.10531905,  51.53707264],\n",
       "       [ 48.25988696,  57.43889329],\n",
       "       [ 43.83627892,  69.479608  ],\n",
       "       [ 43.48734291,  58.77536154],\n",
       "       [ 35.88954283,  46.24730104],\n",
       "       [ 70.58053521,  40.85549097],\n",
       "       [ 54.68706304,  41.08556125],\n",
       "       [ 56.66811906,  49.14333731],\n",
       "       [ 47.21307895,  56.79159437],\n",
       "       [ 61.41815111,  51.40986169],\n",
       "       [ 39.71658287,  46.72542784],\n",
       "       [ 41.72015089,  47.37613674],\n",
       "       [ 54.83339104,  43.5123681 ],\n",
       "       [ 40.88720688,  56.0384026 ],\n",
       "       [ 42.83449491,  44.15617917],\n",
       "       [ 43.77999892,  52.38124986],\n",
       "       [ 45.68226294,  44.18990694],\n",
       "       [ 41.77643089,  56.74693487],\n",
       "       [ 61.27182311,  46.74093754],\n",
       "       [ 37.31905484,  52.11763561],\n",
       "       [ 44.07265492,  46.2161284 ],\n",
       "       [ 40.53827088,  52.4520256 ],\n",
       "       [ 53.41513502,  39.29029772],\n",
       "       [ 49.20539097,  36.51511527],\n",
       "       [ 50.54485499,  46.52363333],\n",
       "       [ 40.30189488,  45.64960687],\n",
       "       [ 41.52879889,  50.38222686],\n",
       "       [ 48.28239896,  52.81918791],\n",
       "       [ 37.30779884,  47.71660922],\n",
       "       [ 39.35639087,  55.38308684],\n",
       "       [ 43.65618291,  46.80708671],\n",
       "       [ 45.73854294,  44.12561337],\n",
       "       [ 42.5418389 ,  57.90261058],\n",
       "       [ 47.39317496,  56.48775347],\n",
       "       [ 66.33702316,  55.66602723],\n",
       "       [ 74.09240725,  43.53307925],\n",
       "       [ 58.17642307,  53.94446492],\n",
       "       [ 46.22255094,  46.58477378],\n",
       "       [ 37.12770284,  53.09090836],\n",
       "       [ 48.71012697,  35.5872623 ],\n",
       "       [ 41.08981489,  46.14720457],\n",
       "       [ 38.73731086,  52.63984329],\n",
       "       [ 36.18219883,  67.31161959],\n",
       "       [ 43.56613491,  52.76969363],\n",
       "       [ 42.5080709 ,  48.60868178],\n",
       "       [ 47.15679895,  49.66298053],\n",
       "       [ 55.36242304,  36.98274227],\n",
       "       [ 49.98205498,  40.21456781],\n",
       "       [ 61.32810311,  51.8691218 ],\n",
       "       [ 81.94909533,  40.64702048],\n",
       "       [ 55.86894305,  48.22754286],\n",
       "       [ 42.8007269 ,  55.59814954],\n",
       "       [ 46.29008694,  43.51616964],\n",
       "       [ 51.929343  ,  50.32620446],\n",
       "       [ 41.9790389 ,  56.01667278],\n",
       "       [ 45.97491894,  43.85991159],\n",
       "       [ 43.27347891,  47.37804841],\n",
       "       [ 47.43819896,  51.72741873],\n",
       "       [ 55.32865504,  46.90261294],\n",
       "       [ 51.096399  ,  41.31986199],\n",
       "       [ 63.42171913,  46.90033389],\n",
       "       [ 39.64904687,  48.56065517],\n",
       "       [ 39.69407087,  54.48655474],\n",
       "       [ 84.92067937,  55.90826656],\n",
       "       [ 45.52467893,  56.41064571],\n",
       "       [ 35.88954283, 140.16734169],\n",
       "       [ 63.57930313,  39.99792609],\n",
       "       [ 46.66153495,  62.63550921],\n",
       "       [ 64.76118315,  39.12599719],\n",
       "       [ 47.86592696,  41.95885912],\n",
       "       [ 44.02763092,  46.27855979],\n",
       "       [ 38.53470286,  91.98145738],\n",
       "       [ 66.70847117,  40.43589049],\n",
       "       [ 66.73098317,  41.0417674 ],\n",
       "       [ 53.98919103,  63.35175951],\n",
       "       [ 78.7749033 ,  36.27903382],\n",
       "       [ 53.80909503,  69.64538616],\n",
       "       [ 73.37202324,  35.75484482],\n",
       "       [ 51.01760699,  63.26729012],\n",
       "       [ 51.253983  ,  51.09300556],\n",
       "       [ 62.01471912,  34.38925415],\n",
       "       [ 48.15858296,  55.25619338],\n",
       "       [ 53.73030302,  52.02759875],\n",
       "       [ 45.38960693,  39.30212077],\n",
       "       [ 50.02707898,  58.31982167],\n",
       "       [ 59.74100709,  38.38521979],\n",
       "       [ 45.15323093,  45.02655396],\n",
       "       [ 46.39139094,  63.20032769],\n",
       "       [ 36.23847883,  54.86876203],\n",
       "       [ 39.36764687,  55.35236429],\n",
       "       [ 76.25355927,  42.64602619],\n",
       "       [ 42.3617429 ,  48.85860894],\n",
       "       [ 42.93579891,  47.90570383],\n",
       "       [ 48.78891897,  58.69393055],\n",
       "       [ 42.0690869 ,  49.50255391],\n",
       "       [ 42.3617429 ,  48.85860894],\n",
       "       [ 46.18878294,  48.6277311 ],\n",
       "       [ 50.83751099,  55.5842425 ],\n",
       "       [ 46.26757494,  55.79382202],\n",
       "       [ 57.65864707,  44.65783063],\n",
       "       [ 71.32343122,  36.32527496],\n",
       "       [ 55.04725504,  37.33976793],\n",
       "       [ 42.0915989 ,  52.29089621],\n",
       "       [ 61.56447911,  34.53261128],\n",
       "       [ 56.87072706,  56.31732732],\n",
       "       [ 82.12919134,  54.17037552],\n",
       "       [ 42.6656549 ,  54.52726576],\n",
       "       [ 59.43709509,  61.47545002],\n",
       "       [ 42.2491829 ,  37.60704326],\n",
       "       [ 59.41458309,  41.10198862],\n",
       "       [ 40.77464688,  44.85114879],\n",
       "       [ 36.44108683,  54.14195282],\n",
       "       [ 61.65452711,  40.43741533],\n",
       "       [ 41.41623889,  53.30098196],\n",
       "       [ 42.83449491,  66.16355048],\n",
       "       [ 37.38659085,  60.33253757],\n",
       "       [ 45.71603094,  54.41894081],\n",
       "       [ 42.83449491,  42.93354743],\n",
       "       [ 46.04245494,  48.82757926],\n",
       "       [ 39.08624686,  56.13869725],\n",
       "       [ 50.74746299,  47.68596782],\n",
       "       [ 42.6769109 ,  57.22213523],\n",
       "       [ 52.62721501,  44.97863668],\n",
       "       [ 54.75459904,  37.28336948],\n",
       "       [ 45.38960693,  54.98827559],\n",
       "       [ 40.79715888,  71.52480645],\n",
       "       [ 39.85165487,  46.0109013 ],\n",
       "       [ 45.20951093,  55.3114932 ],\n",
       "       [ 39.06373486,  43.98304383],\n",
       "       [ 41.91150289,  36.63796431],\n",
       "       [ 64.68239114,  29.46337075],\n",
       "       [ 68.05919118,  45.00140909],\n",
       "       [ 60.4051111 ,  57.07572834],\n",
       "       [ 58.32275107,  35.68934191],\n",
       "       [ 53.24629502,  38.09123541],\n",
       "       [ 47.78713496,  39.72904473],\n",
       "       [ 48.86771097,  49.826378  ]])"
      ]
     },
     "execution_count": 76,
     "metadata": {},
     "output_type": "execute_result"
    }
   ],
   "source": [
    "scaled * 10 +50"
   ]
  },
  {
   "cell_type": "code",
   "execution_count": 78,
   "metadata": {},
   "outputs": [],
   "source": [
    "### 二項分布 Binomial distribution"
   ]
  },
  {
   "cell_type": "code",
   "execution_count": 86,
   "metadata": {},
   "outputs": [],
   "source": [
    "n =3\n",
    "x = np.arange(n+1)\n",
    "y = stats.binom(n=n, p=1/6).pmf(x)"
   ]
  },
  {
   "cell_type": "code",
   "execution_count": 88,
   "metadata": {},
   "outputs": [
    {
     "data": {
      "text/plain": [
       "[<matplotlib.lines.Line2D at 0x7fffceddc1d0>]"
      ]
     },
     "execution_count": 88,
     "metadata": {},
     "output_type": "execute_result"
    },
    {
     "data": {
      "image/png": "[encoded data removed]",
      "text/plain": [
       "<Figure size 432x288 with 1 Axes>"
      ]
     },
     "metadata": {
      "needs_background": "light"
     },
     "output_type": "display_data"
    }
   ],
   "source": [
    "plt.plot(x,y, 'o') # 'o'すると 離散型のグラフになる"
   ]
  },
  {
   "cell_type": "code",
   "execution_count": 89,
   "metadata": {},
   "outputs": [
    {
     "data": {
      "text/plain": [
       "<matplotlib.collections.LineCollection at 0x7fffcedc5710>"
      ]
     },
     "execution_count": 89,
     "metadata": {},
     "output_type": "execute_result"
    },
    {
     "data": {
      "image/png": "[encoded data removed]",
      "text/plain": [
       "<Figure size 432x288 with 1 Axes>"
      ]
     },
     "metadata": {
      "needs_background": "light"
     },
     "output_type": "display_data"
    }
   ],
   "source": [
    "plt.vlines(x, 0, y)"
   ]
  },
  {
   "cell_type": "code",
   "execution_count": 90,
   "metadata": {},
   "outputs": [],
   "source": [
    "### 二項分布"
   ]
  },
  {
   "cell_type": "code",
   "execution_count": 103,
   "metadata": {},
   "outputs": [],
   "source": [
    "n = 100\n",
    "p=1/6\n",
    "x = np.arange(n+1)\n",
    "y = stats.binom(n=n, p=p).pmf(x)"
   ]
  },
  {
   "cell_type": "code",
   "execution_count": 104,
   "metadata": {},
   "outputs": [
    {
     "data": {
      "text/plain": [
       "[<matplotlib.lines.Line2D at 0x7fffceb34ed0>]"
      ]
     },
     "execution_count": 104,
     "metadata": {},
     "output_type": "execute_result"
    },
    {
     "data": {
      "image/png": "[encoded data removed]",
      "text/plain": [
       "<Figure size 432x288 with 1 Axes>"
      ]
     },
     "metadata": {
      "needs_background": "light"
     },
     "output_type": "display_data"
    }
   ],
   "source": [
    "plt.plot(x,y, 'o')"
   ]
  },
  {
   "cell_type": "code",
   "execution_count": 105,
   "metadata": {},
   "outputs": [
    {
     "data": {
      "text/plain": [
       "16.666666666666664"
      ]
     },
     "execution_count": 105,
     "metadata": {},
     "output_type": "execute_result"
    }
   ],
   "source": [
    "## 平均\n",
    "stats.binom(n, p).mean()"
   ]
  },
  {
   "cell_type": "code",
   "execution_count": 106,
   "metadata": {},
   "outputs": [
    {
     "data": {
      "text/plain": [
       "16.666666666666664"
      ]
     },
     "execution_count": 106,
     "metadata": {},
     "output_type": "execute_result"
    }
   ],
   "source": [
    "n*p"
   ]
  },
  {
   "cell_type": "code",
   "execution_count": 109,
   "metadata": {},
   "outputs": [
    {
     "data": {
      "text/plain": [
       "13.888888888888888"
      ]
     },
     "execution_count": 109,
     "metadata": {},
     "output_type": "execute_result"
    }
   ],
   "source": [
    "n*p*(1-p)"
   ]
  },
  {
   "cell_type": "code",
   "execution_count": 111,
   "metadata": {},
   "outputs": [
    {
     "data": {
      "text/plain": [
       "13.888888888888888"
      ]
     },
     "execution_count": 111,
     "metadata": {},
     "output_type": "execute_result"
    }
   ],
   "source": [
    "## npq\n",
    "stats.binom(n,p).var()"
   ]
  },
  {
   "cell_type": "code",
   "execution_count": 120,
   "metadata": {},
   "outputs": [
    {
     "data": {
      "text/plain": [
       "[<matplotlib.lines.Line2D at 0x7fffce903450>]"
      ]
     },
     "execution_count": 120,
     "metadata": {},
     "output_type": "execute_result"
    },
    {
     "data": {
      "image/png": "[encoded data removed]",
      "text/plain": [
       "<Figure size 432x288 with 1 Axes>"
      ]
     },
     "metadata": {
      "needs_background": "light"
     },
     "output_type": "display_data"
    }
   ],
   "source": [
    "y2 = stats.norm(n*p, np.sqrt(n*p*(1-p))).pdf(x)\n",
    "plt.plot(x,y2)\n",
    "plt.plot(x,y, 'o') #上記のグラフとkさねて表示できる"
   ]
  },
  {
   "cell_type": "code",
   "execution_count": null,
   "metadata": {},
   "outputs": [],
   "source": []
  }
 ],
 "metadata": {
  "kernelspec": {
   "display_name": "Python 3",
   "language": "python",
   "name": "python3"
  },
  "language_info": {
   "codemirror_mode": {
    "name": "ipython",
    "version": 3
   },
   "file_extension": ".py",
   "mimetype": "text/x-python",
   "name": "python",
   "nbconvert_exporter": "python",
   "pygments_lexer": "ipython3",
   "version": "3.7.6"
  }
 },
 "nbformat": 4,
 "nbformat_minor": 4
}
